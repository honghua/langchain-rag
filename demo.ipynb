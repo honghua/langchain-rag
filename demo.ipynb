{
 "cells": [
  {
   "cell_type": "code",
   "execution_count": 3,
   "metadata": {},
   "outputs": [
    {
     "name": "stdout",
     "output_type": "stream",
     "text": [
      "Data store already exists at chroma. Use overwrite=True to recreate.\n"
     ]
    },
    {
     "name": "stderr",
     "output_type": "stream",
     "text": [
      "Loading checkpoint shards: 100%|██████████| 4/4 [00:02<00:00,  1.51it/s]\n",
      "Some parameters are on the meta device device because they were offloaded to the cpu.\n",
      "Setting `pad_token_id` to `eos_token_id`:128001 for open-end generation.\n"
     ]
    },
    {
     "name": "stdout",
     "output_type": "stream",
     "text": [
      "context:\n",
      " Key Venues and Locations\n",
      "The 2024 Olympics will be spread across several iconic locations in Paris, as well as a few other cities in France. Some of the key venues include:\n",
      "\n",
      "---\n",
      "\n",
      "As the world gears up for the 2024 Summer Olympics, the anticipation is palpable. This edition of the Games will be held in Paris, France, a city steeped in history and culture, and one that has played host to the Olympics twice before. The 2024 Games promise to be a remarkable event, one that will\n",
      "\n",
      "---\n",
      "\n",
      "The 2024 Summer Olympics will mark the third time that Paris has hosted the Games, following previous events in 1900 and 1924. The choice of Paris as the host city for 2024 is symbolic, as it will coincide with the centenary of the 1924 Olympics, which were also held in the French capital. The 1900\n",
      "Response: The 2024 Summer Olympics will be held in Paris, France, as well as a few other cities in France.\n",
      "Sources: ['data/uploaded_docs/paris_olympics.txt', 'data/uploaded_docs/paris_olympics.txt', 'data/uploaded_docs/paris_olympics.txt']\n"
     ]
    }
   ],
   "source": [
    "import argparse\n",
    "from pathlib import Path\n",
    "\n",
    "from datastore import DataStoreGenerator\n",
    "from query_processor import QueryProcessor\n",
    "\n",
    "def ask_question(question: str):\n",
    "    data_path = Path(\"data\")\n",
    "    DataStoreGenerator.generate_data_store(data_path, overwrite=False)\n",
    "\n",
    "\n",
    "    processor = QueryProcessor()\n",
    "    processor.process_query(question)\n",
    "\n",
    "question = \"where is 2024 olympics\"\n",
    "ask_question(question)"
   ]
  },
  {
   "cell_type": "code",
   "execution_count": 12,
   "metadata": {},
   "outputs": [
    {
     "name": "stderr",
     "output_type": "stream",
     "text": [
      "Loading checkpoint shards: 100%|██████████| 4/4 [00:02<00:00,  1.47it/s]\n",
      "Some parameters are on the meta device device because they were offloaded to the cpu.\n",
      "Setting `pad_token_id` to `eos_token_id`:128001 for open-end generation.\n"
     ]
    },
    {
     "name": "stdout",
     "output_type": "stream",
     "text": [
      "Alice meets the Mad Hatter through the Cat, who initially introduces her to both the Hatter and the March Hare. The Cat tells Alice that the Hatter lives in one direction and the March Hare lives in another, and invites her to visit either of them, as they are both mad.\n"
     ]
    }
   ],
   "source": [
    "import transformers\n",
    "import torch\n",
    "\n",
    "model_id = \"meta-llama/Meta-Llama-3.1-8B-Instruct\"\n",
    "\n",
    "pipeline = transformers.pipeline(\n",
    "    \"text-generation\",\n",
    "    model=model_id,\n",
    "    model_kwargs={\"torch_dtype\": torch.bfloat16},\n",
    "    device_map=\"auto\",\n",
    ")\n",
    "context = ''' \n",
    "“In _that_ direction,” the Cat said, waving its right paw round, “lives\n",
    "a Hatter: and in _that_ direction,” waving the other paw, “lives a\n",
    "March Hare. Visit either you like: they’re both mad.”\n",
    "\n",
    "“But I don’t want to go among mad people,” Alice remarked.\n",
    "\n",
    "---\n",
    "\n",
    "“Which is just the case with _mine_,” said the Hatter.\n",
    "\n",
    "Alice felt dreadfully puzzled. The Hatter’s remark seemed to have no\n",
    "sort of meaning in it, and yet it was certainly English. “I don’t quite\n",
    "understand you,” she said, as politely as she could.\n",
    "\n",
    "---\n",
    "\n",
    "“Who’s making personal remarks now?” the Hatter asked triumphantly.\n",
    "\n",
    "Alice did not quite know what to say to this: so she helped herself to\n",
    "some tea and bread-and-butter, and then turned to the Dormouse, and\n",
    "repeated her question. “Why did they live at the bottom of a well?”\n",
    "\n",
    "---\n",
    "'''\n",
    "\n",
    "question = ''' \n",
    "How does Alice meet the Mad Hatter?\n",
    "'''\n",
    "\n",
    "messages = [\n",
    "    {\"role\": \"system\", \"content\": f\"Answer the question based only on the following context: {context}\"}, \n",
    "    {\"role\": \"user\", \"content\": f\"{question}\"},\n",
    "]\n",
    "\n",
    "outputs = pipeline(\n",
    "    messages,\n",
    "    max_new_tokens=256,\n",
    ")\n",
    "# print(outputs[0][\"generated_text\"][-1])\n",
    "print(outputs[0][\"generated_text\"][-1][\"content\"])"
   ]
  }
 ],
 "metadata": {
  "kernelspec": {
   "display_name": "Python 3",
   "language": "python",
   "name": "python3"
  },
  "language_info": {
   "codemirror_mode": {
    "name": "ipython",
    "version": 3
   },
   "file_extension": ".py",
   "mimetype": "text/x-python",
   "name": "python",
   "nbconvert_exporter": "python",
   "pygments_lexer": "ipython3",
   "version": "3.11.9"
  }
 },
 "nbformat": 4,
 "nbformat_minor": 2
}
